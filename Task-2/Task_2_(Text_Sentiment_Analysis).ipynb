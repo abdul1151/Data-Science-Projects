{
  "nbformat": 4,
  "nbformat_minor": 0,
  "metadata": {
    "colab": {
      "provenance": []
    },
    "kernelspec": {
      "name": "python3",
      "display_name": "Python 3"
    },
    "language_info": {
      "name": "python"
    }
  },
  "cells": [
    {
      "cell_type": "markdown",
      "source": [
        "# **What is Sentiment Analysis?**\n",
        "Sentiment analysis is a natural language processing (NLP) technique used to determine the emotional tone behind a body of text. It is commonly applied to analyze reviews, social media posts, or any text data to classify sentiments as positive, negative, or neutral.\n",
        "\n",
        "# **Why Perform Sentiment Analysis?**\n",
        "Sentiment analysis helps organizations and individuals:\n",
        "\n",
        "* **nderstand Customer Feedback:** Analyze product or service reviews to gauge customer satisfaction.\n",
        "* **Monitor Public Opinion:** Assess opinions on social media about brands, events, or topics.\n",
        "* **Enhance Decision-Making:** Provide actionable insights to improve products, services, or communication strategies.\n"
      ],
      "metadata": {
        "id": "n4IRmdkvyqaY"
      }
    },
    {
      "cell_type": "markdown",
      "source": [
        "# **IMDB Dataset**\n",
        "For this task, we are using the IMDB Reviews Dataset, which contains following key features:\n",
        "\n",
        "* **Reviews:** Movie reviews written by users.\n",
        "* **Sentiment Labels:** The sentiment associated with each review, either positive or negative.\n"
      ],
      "metadata": {
        "id": "ZiB5IxdhzQsp"
      }
    },
    {
      "cell_type": "markdown",
      "source": [
        "### **Step 1: Text Preprocessing**\n",
        "\n",
        "**1. Load the Dataset**\n",
        "\n"
      ],
      "metadata": {
        "id": "ESllgvlmznHP"
      }
    },
    {
      "cell_type": "code",
      "execution_count": 4,
      "metadata": {
        "colab": {
          "base_uri": "https://localhost:8080/"
        },
        "id": "43OF69AuplSB",
        "outputId": "30329f6b-c969-4332-ebf6-ab261d44da23"
      },
      "outputs": [
        {
          "output_type": "stream",
          "name": "stdout",
          "text": [
            "                                              review sentiment\n",
            "0  Loved every bit of it! A masterpiece of modern...  positive\n",
            "1  Loved every bit of it! A masterpiece of modern...  positive\n",
            "2  A total waste of time. Couldn't wait for it to...  negative\n",
            "3  Loved every bit of it! A masterpiece of modern...  positive\n",
            "4  Loved every bit of it! A masterpiece of modern...  positive\n"
          ]
        }
      ],
      "source": [
        "# Import necessary libraries\n",
        "import pandas as pd\n",
        "\n",
        "# Load the dataset with error handling\n",
        "df = pd.read_csv('imdb reviews.csv')\n",
        "\n",
        "# Display the first few rows\n",
        "print(df.head())\n"
      ]
    },
    {
      "cell_type": "code",
      "source": [
        "# Check the dataset structure\n",
        "print(df.info())"
      ],
      "metadata": {
        "colab": {
          "base_uri": "https://localhost:8080/"
        },
        "id": "wt0GPsnp3SEZ",
        "outputId": "e557d831-9ac5-447e-8811-59519cbc4662"
      },
      "execution_count": 5,
      "outputs": [
        {
          "output_type": "stream",
          "name": "stdout",
          "text": [
            "<class 'pandas.core.frame.DataFrame'>\n",
            "RangeIndex: 1000 entries, 0 to 999\n",
            "Data columns (total 2 columns):\n",
            " #   Column     Non-Null Count  Dtype \n",
            "---  ------     --------------  ----- \n",
            " 0   review     1000 non-null   object\n",
            " 1   sentiment  1000 non-null   object\n",
            "dtypes: object(2)\n",
            "memory usage: 15.8+ KB\n",
            "None\n"
          ]
        }
      ]
    },
    {
      "cell_type": "markdown",
      "source": [
        "**2. Tokenization**"
      ],
      "metadata": {
        "id": "19wOtuAH3b5v"
      }
    },
    {
      "cell_type": "code",
      "source": [
        "import nltk\n",
        "from nltk.tokenize import word_tokenize\n",
        "\n",
        "# Download required NLTK data\n",
        "nltk.download('punkt')\n",
        "nltk.download('punkt_tab')\n",
        "\n",
        "# Example: Tokenize the first review\n",
        "df['tokens'] = df['review'].apply(word_tokenize)\n",
        "print(df[['review', 'tokens']].head())\n"
      ],
      "metadata": {
        "colab": {
          "base_uri": "https://localhost:8080/"
        },
        "id": "XqfYsWj53hlY",
        "outputId": "679523d3-b1c1-4481-f978-167fb22f0cef"
      },
      "execution_count": 7,
      "outputs": [
        {
          "output_type": "stream",
          "name": "stderr",
          "text": [
            "[nltk_data] Downloading package punkt to /root/nltk_data...\n",
            "[nltk_data]   Package punkt is already up-to-date!\n",
            "[nltk_data] Downloading package punkt_tab to /root/nltk_data...\n",
            "[nltk_data]   Unzipping tokenizers/punkt_tab.zip.\n"
          ]
        },
        {
          "output_type": "stream",
          "name": "stdout",
          "text": [
            "                                              review  \\\n",
            "0  Loved every bit of it! A masterpiece of modern...   \n",
            "1  Loved every bit of it! A masterpiece of modern...   \n",
            "2  A total waste of time. Couldn't wait for it to...   \n",
            "3  Loved every bit of it! A masterpiece of modern...   \n",
            "4  Loved every bit of it! A masterpiece of modern...   \n",
            "\n",
            "                                              tokens  \n",
            "0  [Loved, every, bit, of, it, !, A, masterpiece,...  \n",
            "1  [Loved, every, bit, of, it, !, A, masterpiece,...  \n",
            "2  [A, total, waste, of, time, ., Could, n't, wai...  \n",
            "3  [Loved, every, bit, of, it, !, A, masterpiece,...  \n",
            "4  [Loved, every, bit, of, it, !, A, masterpiece,...  \n"
          ]
        }
      ]
    },
    {
      "cell_type": "markdown",
      "source": [
        "**3. Remove Stopwords**"
      ],
      "metadata": {
        "id": "V0hABb2d4Tqv"
      }
    },
    {
      "cell_type": "code",
      "source": [
        "from nltk.corpus import stopwords\n",
        "\n",
        "# Download stopwords\n",
        "nltk.download('stopwords')\n",
        "stop_words = set(stopwords.words('english'))\n",
        "\n",
        "# Remove stopwords from tokens\n",
        "df['tokens'] = df['tokens'].apply(lambda x: [word for word in x if word.lower() not in stop_words])\n",
        "print(df[['review', 'tokens']].head())\n"
      ],
      "metadata": {
        "colab": {
          "base_uri": "https://localhost:8080/"
        },
        "id": "rIPgUWhY4Y03",
        "outputId": "3ad2b2a3-c40a-4382-a77a-3dacf0a5b116"
      },
      "execution_count": 8,
      "outputs": [
        {
          "output_type": "stream",
          "name": "stdout",
          "text": [
            "                                              review  \\\n",
            "0  Loved every bit of it! A masterpiece of modern...   \n",
            "1  Loved every bit of it! A masterpiece of modern...   \n",
            "2  A total waste of time. Couldn't wait for it to...   \n",
            "3  Loved every bit of it! A masterpiece of modern...   \n",
            "4  Loved every bit of it! A masterpiece of modern...   \n",
            "\n",
            "                                              tokens  \n",
            "0  [Loved, every, bit, !, masterpiece, modern, ci...  \n",
            "1  [Loved, every, bit, !, masterpiece, modern, ci...  \n",
            "2  [total, waste, time, ., Could, n't, wait, end, .]  \n",
            "3  [Loved, every, bit, !, masterpiece, modern, ci...  \n",
            "4  [Loved, every, bit, !, masterpiece, modern, ci...  \n"
          ]
        },
        {
          "output_type": "stream",
          "name": "stderr",
          "text": [
            "[nltk_data] Downloading package stopwords to /root/nltk_data...\n",
            "[nltk_data]   Unzipping corpora/stopwords.zip.\n"
          ]
        }
      ]
    },
    {
      "cell_type": "markdown",
      "source": [
        "**4. Perform Lemmatization**"
      ],
      "metadata": {
        "id": "JcCnUzLS4j9O"
      }
    },
    {
      "cell_type": "code",
      "source": [
        "from nltk.stem import WordNetLemmatizer\n",
        "\n",
        "# Download WordNet data\n",
        "nltk.download('wordnet')\n",
        "nltk.download('omw-1.4')\n",
        "\n",
        "lemmatizer = WordNetLemmatizer()\n",
        "\n",
        "# Lemmatize tokens\n",
        "df['tokens'] = df['tokens'].apply(lambda x: [lemmatizer.lemmatize(word) for word in x])\n",
        "print(df[['review', 'tokens']].head())\n"
      ],
      "metadata": {
        "colab": {
          "base_uri": "https://localhost:8080/"
        },
        "id": "JuFMS1Vq4mSf",
        "outputId": "b18effa7-3950-495e-cf7c-cf84c4302b31"
      },
      "execution_count": 9,
      "outputs": [
        {
          "output_type": "stream",
          "name": "stderr",
          "text": [
            "[nltk_data] Downloading package wordnet to /root/nltk_data...\n",
            "[nltk_data] Downloading package omw-1.4 to /root/nltk_data...\n"
          ]
        },
        {
          "output_type": "stream",
          "name": "stdout",
          "text": [
            "                                              review  \\\n",
            "0  Loved every bit of it! A masterpiece of modern...   \n",
            "1  Loved every bit of it! A masterpiece of modern...   \n",
            "2  A total waste of time. Couldn't wait for it to...   \n",
            "3  Loved every bit of it! A masterpiece of modern...   \n",
            "4  Loved every bit of it! A masterpiece of modern...   \n",
            "\n",
            "                                              tokens  \n",
            "0  [Loved, every, bit, !, masterpiece, modern, ci...  \n",
            "1  [Loved, every, bit, !, masterpiece, modern, ci...  \n",
            "2  [total, waste, time, ., Could, n't, wait, end, .]  \n",
            "3  [Loved, every, bit, !, masterpiece, modern, ci...  \n",
            "4  [Loved, every, bit, !, masterpiece, modern, ci...  \n"
          ]
        }
      ]
    },
    {
      "cell_type": "markdown",
      "source": [
        "### **Step 2: Feature Engineering**"
      ],
      "metadata": {
        "id": "560rPm6o48CI"
      }
    },
    {
      "cell_type": "markdown",
      "source": [
        "**TF-IDF Transformation**"
      ],
      "metadata": {
        "id": "A4sVGXVx5Di-"
      }
    },
    {
      "cell_type": "code",
      "source": [
        "from sklearn.feature_extraction.text import TfidfVectorizer\n",
        "\n",
        "# Initialize TF-IDF Vectorizer\n",
        "tfidf = TfidfVectorizer(max_features=5000)  # Limit to 5000 features for efficiency\n",
        "\n",
        "# Transform the reviews into TF-IDF vectors\n",
        "X = tfidf.fit_transform(df['review'])\n",
        "\n",
        "# Check the shape of the resulting matrix\n",
        "print(\"Shape of TF-IDF matrix:\", X.shape)\n",
        "\n",
        "# Labels\n",
        "y = df['sentiment'].map({'positive': 1, 'negative': 0})  # Encode sentiment as binary\n",
        "print(\"Label distribution:\\n\", y.value_counts())\n"
      ],
      "metadata": {
        "colab": {
          "base_uri": "https://localhost:8080/"
        },
        "id": "BPPgmJuT5Kpn",
        "outputId": "f65f6976-2826-4586-c604-60507434a07a"
      },
      "execution_count": 10,
      "outputs": [
        {
          "output_type": "stream",
          "name": "stdout",
          "text": [
            "Shape of TF-IDF matrix: (1000, 70)\n",
            "Label distribution:\n",
            " sentiment\n",
            "0    525\n",
            "1    475\n",
            "Name: count, dtype: int64\n"
          ]
        }
      ]
    },
    {
      "cell_type": "markdown",
      "source": [
        "### **Step 3: Model Training and Evaluation**\n",
        "\n"
      ],
      "metadata": {
        "id": "Iadxl2Ua5Ybp"
      }
    },
    {
      "cell_type": "markdown",
      "source": [
        "**1: Logistic Regression**"
      ],
      "metadata": {
        "id": "SoUv3vxV5iI_"
      }
    },
    {
      "cell_type": "code",
      "source": [
        "from sklearn.model_selection import train_test_split\n",
        "from sklearn.linear_model import LogisticRegression\n",
        "\n",
        "# Split the data into training and testing sets\n",
        "X_train, X_test, y_train, y_test = train_test_split(X, y, test_size=0.2, random_state=42)\n",
        "\n",
        "# Initialize the Logistic Regression model\n",
        "model = LogisticRegression(max_iter=1000)\n",
        "\n",
        "# Train the model on the training data\n",
        "model.fit(X_train, y_train)\n",
        "\n",
        "# Print model training success\n",
        "print(\"Model training completed.\")\n"
      ],
      "metadata": {
        "colab": {
          "base_uri": "https://localhost:8080/"
        },
        "id": "GLBXB8tJ5qYo",
        "outputId": "feea7da9-0c19-4f66-c0e9-4bbf09f094dc"
      },
      "execution_count": 11,
      "outputs": [
        {
          "output_type": "stream",
          "name": "stdout",
          "text": [
            "Model training completed.\n"
          ]
        }
      ]
    },
    {
      "cell_type": "markdown",
      "source": [
        "**Logistic Regression Model Evaluation**"
      ],
      "metadata": {
        "id": "mhRPSD-M6KU2"
      }
    },
    {
      "cell_type": "code",
      "source": [
        "from sklearn.metrics import accuracy_score, precision_score, recall_score, f1_score, confusion_matrix, classification_report\n",
        "import seaborn as sns\n",
        "import matplotlib.pyplot as plt\n",
        "\n",
        "# Make predictions on the test set\n",
        "y_pred = model.predict(X_test)\n",
        "\n",
        "# Evaluate the model\n",
        "accuracy = accuracy_score(y_test, y_pred)\n",
        "precision = precision_score(y_test, y_pred)\n",
        "recall = recall_score(y_test, y_pred)\n",
        "f1 = f1_score(y_test, y_pred)\n",
        "\n",
        "print(\"Model Performance:\")\n",
        "print(f\"Accuracy: {accuracy:.2f}\")\n",
        "print(f\"Precision: {precision:.2f}\")\n",
        "print(f\"Recall: {recall:.2f}\")\n",
        "print(f\"F1-Score: {f1:.2f}\")\n",
        "\n",
        "# Confusion Matrix\n",
        "conf_matrix = confusion_matrix(y_test, y_pred)\n",
        "\n",
        "# Plot confusion matrix\n",
        "plt.figure(figsize=(6, 4))\n",
        "sns.heatmap(conf_matrix, annot=True, fmt='d', cmap='Blues', xticklabels=['Negative', 'Positive'], yticklabels=['Negative', 'Positive'])\n",
        "plt.title('Confusion Matrix')\n",
        "plt.xlabel('Predicted')\n",
        "plt.ylabel('Actual')\n",
        "plt.show()\n",
        "\n",
        "# Detailed classification report\n",
        "print(\"\\nClassification Report:\")\n",
        "print(classification_report(y_test, y_pred, target_names=['Negative', 'Positive']))\n"
      ],
      "metadata": {
        "colab": {
          "base_uri": "https://localhost:8080/",
          "height": 702
        },
        "id": "nhBMoVj06SnQ",
        "outputId": "474cd8dd-18e2-4ed7-d4da-a52379e54707"
      },
      "execution_count": 12,
      "outputs": [
        {
          "output_type": "stream",
          "name": "stdout",
          "text": [
            "Model Performance:\n",
            "Accuracy: 1.00\n",
            "Precision: 1.00\n",
            "Recall: 1.00\n",
            "F1-Score: 1.00\n"
          ]
        },
        {
          "output_type": "display_data",
          "data": {
            "text/plain": [
              "<Figure size 600x400 with 2 Axes>"
            ],
            "image/png": "[encoded data removed]"
          },
          "metadata": {}
        },
        {
          "output_type": "stream",
          "name": "stdout",
          "text": [
            "\n",
            "Classification Report:\n",
            "              precision    recall  f1-score   support\n",
            "\n",
            "    Negative       1.00      1.00      1.00       107\n",
            "    Positive       1.00      1.00      1.00        93\n",
            "\n",
            "    accuracy                           1.00       200\n",
            "   macro avg       1.00      1.00      1.00       200\n",
            "weighted avg       1.00      1.00      1.00       200\n",
            "\n"
          ]
        }
      ]
    },
    {
      "cell_type": "markdown",
      "source": [
        "**2: Naive Bayes**"
      ],
      "metadata": {
        "id": "gPNhAqxP6gB2"
      }
    },
    {
      "cell_type": "code",
      "source": [
        "from sklearn.naive_bayes import MultinomialNB\n",
        "\n",
        "# Initialize the Naive Bayes model\n",
        "nb_model = MultinomialNB()\n",
        "\n",
        "# Train the model on the training data\n",
        "nb_model.fit(X_train, y_train)\n",
        "\n",
        "# Print a message to indicate training is complete\n",
        "print(\"Naive Bayes model training completed.\")\n"
      ],
      "metadata": {
        "colab": {
          "base_uri": "https://localhost:8080/"
        },
        "id": "Xi7ivsgOFBpn",
        "outputId": "568021e4-1397-4538-ddb6-97c0f089db66"
      },
      "execution_count": 15,
      "outputs": [
        {
          "output_type": "stream",
          "name": "stdout",
          "text": [
            "Naive Bayes model training completed.\n"
          ]
        }
      ]
    },
    {
      "cell_type": "markdown",
      "source": [
        "**Naive Bayes Model Evaluation**"
      ],
      "metadata": {
        "id": "5uiitofN74Wv"
      }
    },
    {
      "cell_type": "code",
      "source": [
        "from sklearn.metrics import accuracy_score, precision_score, recall_score, f1_score, confusion_matrix, classification_report\n",
        "import seaborn as sns\n",
        "import matplotlib.pyplot as plt\n",
        "\n",
        "# Make predictions on the test set\n",
        "y_pred_nb = nb_model.predict(X_test)\n",
        "\n",
        "# Evaluate the model\n",
        "accuracy_nb = accuracy_score(y_test, y_pred_nb)\n",
        "precision_nb = precision_score(y_test, y_pred_nb)\n",
        "recall_nb = recall_score(y_test, y_pred_nb)\n",
        "f1_nb = f1_score(y_test, y_pred_nb)\n",
        "\n",
        "# Print evaluation metrics\n",
        "print(\"Naive Bayes Model Performance:\")\n",
        "print(f\"Accuracy: {accuracy_nb:.2f}\")\n",
        "print(f\"Precision: {precision_nb:.2f}\")\n",
        "print(f\"Recall: {recall_nb:.2f}\")\n",
        "print(f\"F1-Score: {f1_nb:.2f}\")\n",
        "\n",
        "# Confusion Matrix\n",
        "conf_matrix_nb = confusion_matrix(y_test, y_pred_nb)\n",
        "\n",
        "# Plot confusion matrix\n",
        "plt.figure(figsize=(6, 4))\n",
        "sns.heatmap(conf_matrix_nb, annot=True, fmt='d', cmap='Greens', xticklabels=['Negative', 'Positive'], yticklabels=['Negative', 'Positive'])\n",
        "plt.title('Confusion Matrix - Naive Bayes')\n",
        "plt.xlabel('Predicted')\n",
        "plt.ylabel('Actual')\n",
        "plt.show()\n",
        "\n",
        "# Detailed classification report\n",
        "print(\"\\nClassification Report - Naive Bayes:\")\n",
        "print(classification_report(y_test, y_pred_nb, target_names=['Negative', 'Positive']))\n"
      ],
      "metadata": {
        "colab": {
          "base_uri": "https://localhost:8080/",
          "height": 702
        },
        "id": "pEBNHpcKFWy5",
        "outputId": "8a6be16c-908b-4de5-ea82-848cd959266f"
      },
      "execution_count": 16,
      "outputs": [
        {
          "output_type": "stream",
          "name": "stdout",
          "text": [
            "Naive Bayes Model Performance:\n",
            "Accuracy: 1.00\n",
            "Precision: 1.00\n",
            "Recall: 1.00\n",
            "F1-Score: 1.00\n"
          ]
        },
        {
          "output_type": "display_data",
          "data": {
            "text/plain": [
              "<Figure size 600x400 with 2 Axes>"
            ],
            "image/png": "[encoded data removed]"
          },
          "metadata": {}
        },
        {
          "output_type": "stream",
          "name": "stdout",
          "text": [
            "\n",
            "Classification Report - Naive Bayes:\n",
            "              precision    recall  f1-score   support\n",
            "\n",
            "    Negative       1.00      1.00      1.00       107\n",
            "    Positive       1.00      1.00      1.00        93\n",
            "\n",
            "    accuracy                           1.00       200\n",
            "   macro avg       1.00      1.00      1.00       200\n",
            "weighted avg       1.00      1.00      1.00       200\n",
            "\n"
          ]
        }
      ]
    }
  ]
}